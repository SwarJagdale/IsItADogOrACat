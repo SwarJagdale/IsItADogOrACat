{
 "cells": [
  {
   "cell_type": "code",
   "execution_count": 1,
   "id": "b5a01733",
   "metadata": {},
   "outputs": [],
   "source": [
    "import tensorflow as tf\n",
    "from keras.preprocessing.image import ImageDataGenerator"
   ]
  },
  {
   "cell_type": "code",
   "execution_count": 2,
   "id": "ae79053d",
   "metadata": {},
   "outputs": [
    {
     "name": "stdout",
     "output_type": "stream",
     "text": [
      "Found 8000 images belonging to 2 classes.\n"
     ]
    }
   ],
   "source": [
    "train_datagen = ImageDataGenerator(rescale=1/255,\n",
    "                                  shear_range=0.2,\n",
    "                                  zoom_range=0.2,\n",
    "                                  horizontal_flip=True)\n",
    "training_set = train_datagen.flow_from_directory(\n",
    "    r\"C:\\Users\\Swar Jagdale\\Downloads\\dataset\\training_set\",\n",
    "target_size=(64,64),\n",
    "batch_size=32,\n",
    "class_mode='binary')"
   ]
  },
  {
   "cell_type": "code",
   "execution_count": 3,
   "id": "634e69cc",
   "metadata": {},
   "outputs": [
    {
     "name": "stdout",
     "output_type": "stream",
     "text": [
      "Found 2000 images belonging to 2 classes.\n"
     ]
    }
   ],
   "source": [
    "test_datagen = ImageDataGenerator(rescale=1/255)\n",
    "test_set=test_datagen.flow_from_directory(\n",
    "r\"C:\\Users\\Swar Jagdale\\Downloads\\dataset\\test_set\"\n",
    ",\n",
    "target_size=(64,64),\n",
    "batch_size=32,\n",
    "class_mode='binary')"
   ]
  },
  {
   "cell_type": "code",
   "execution_count": 4,
   "id": "51b4ee36",
   "metadata": {},
   "outputs": [],
   "source": [
    "cnn = tf.keras.models.Sequential()\n",
    "cnn.add(tf.keras.layers.Conv2D(filters=32,kernel_size=3,activation='relu',input_shape=[64,64,3]))\n",
    "cnn.add(tf.keras.layers.MaxPool2D(pool_size=2,strides=2))\n",
    "cnn.add(tf.keras.layers.Conv2D(filters=32,kernel_size=3,activation='relu'))\n",
    "cnn.add(tf.keras.layers.MaxPool2D(pool_size=2,strides=2))\n",
    "cnn.add(tf.keras.layers.Flatten())\n",
    "cnn.add( tf.keras.layers.Dense(units=64,activation='relu'))\n",
    "cnn.add( tf.keras.layers.Dense(units=256,activation='relu'))\n",
    "cnn.add( tf.keras.layers.Dense(units=16,activation='relu'))\n",
    "cnn.add(tf.keras.layers.Dense(units=1,activation='sigmoid'))"
   ]
  },
  {
   "cell_type": "code",
   "execution_count": 5,
   "id": "bc204f06",
   "metadata": {
    "scrolled": false
   },
   "outputs": [
    {
     "name": "stdout",
     "output_type": "stream",
     "text": [
      "Epoch 1/50\n",
      "250/250 [==============================] - 145s 571ms/step - loss: 0.6742 - accuracy: 0.5753 - val_loss: 0.6064 - val_accuracy: 0.6675\n",
      "Epoch 2/50\n",
      "250/250 [==============================] - 23s 93ms/step - loss: 0.6047 - accuracy: 0.6718 - val_loss: 0.5660 - val_accuracy: 0.7090\n",
      "Epoch 3/50\n",
      "250/250 [==============================] - 24s 98ms/step - loss: 0.5621 - accuracy: 0.7056 - val_loss: 0.6272 - val_accuracy: 0.6845\n",
      "Epoch 4/50\n",
      "250/250 [==============================] - 23s 93ms/step - loss: 0.5300 - accuracy: 0.7381 - val_loss: 0.5272 - val_accuracy: 0.7360\n",
      "Epoch 5/50\n",
      "250/250 [==============================] - 25s 101ms/step - loss: 0.5099 - accuracy: 0.7477 - val_loss: 0.5011 - val_accuracy: 0.7595\n",
      "Epoch 6/50\n",
      "250/250 [==============================] - 23s 91ms/step - loss: 0.4831 - accuracy: 0.7616 - val_loss: 0.4842 - val_accuracy: 0.7795\n",
      "Epoch 7/50\n",
      "250/250 [==============================] - 22s 89ms/step - loss: 0.4655 - accuracy: 0.7765 - val_loss: 0.4798 - val_accuracy: 0.7780\n",
      "Epoch 8/50\n",
      "250/250 [==============================] - 22s 89ms/step - loss: 0.4506 - accuracy: 0.7851 - val_loss: 0.4811 - val_accuracy: 0.7690\n",
      "Epoch 9/50\n",
      "250/250 [==============================] - 24s 95ms/step - loss: 0.4524 - accuracy: 0.7844 - val_loss: 0.5410 - val_accuracy: 0.7370\n",
      "Epoch 10/50\n",
      "250/250 [==============================] - 25s 99ms/step - loss: 0.4404 - accuracy: 0.7912 - val_loss: 0.4545 - val_accuracy: 0.7815\n",
      "Epoch 11/50\n",
      "250/250 [==============================] - 25s 99ms/step - loss: 0.4213 - accuracy: 0.8085 - val_loss: 0.4774 - val_accuracy: 0.7815\n",
      "Epoch 12/50\n",
      "250/250 [==============================] - 23s 91ms/step - loss: 0.4092 - accuracy: 0.8085 - val_loss: 0.4751 - val_accuracy: 0.7820\n",
      "Epoch 13/50\n",
      "250/250 [==============================] - 22s 89ms/step - loss: 0.3967 - accuracy: 0.8171 - val_loss: 0.5059 - val_accuracy: 0.7585\n",
      "Epoch 14/50\n",
      "250/250 [==============================] - 23s 91ms/step - loss: 0.3948 - accuracy: 0.8195 - val_loss: 0.4927 - val_accuracy: 0.7680\n",
      "Epoch 15/50\n",
      "250/250 [==============================] - 24s 96ms/step - loss: 0.3754 - accuracy: 0.8289 - val_loss: 0.5001 - val_accuracy: 0.7745\n",
      "Epoch 16/50\n",
      "250/250 [==============================] - 28s 111ms/step - loss: 0.3709 - accuracy: 0.8304 - val_loss: 0.5529 - val_accuracy: 0.7535\n",
      "Epoch 17/50\n",
      "250/250 [==============================] - 23s 92ms/step - loss: 0.3666 - accuracy: 0.8319 - val_loss: 0.5221 - val_accuracy: 0.7540\n",
      "Epoch 18/50\n",
      "250/250 [==============================] - 24s 95ms/step - loss: 0.3497 - accuracy: 0.8439 - val_loss: 0.4702 - val_accuracy: 0.7965\n",
      "Epoch 19/50\n",
      "250/250 [==============================] - 23s 93ms/step - loss: 0.3460 - accuracy: 0.8465 - val_loss: 0.5088 - val_accuracy: 0.7865\n",
      "Epoch 20/50\n",
      "250/250 [==============================] - 25s 99ms/step - loss: 0.3314 - accuracy: 0.8556 - val_loss: 0.4849 - val_accuracy: 0.7830\n",
      "Epoch 21/50\n",
      "250/250 [==============================] - 23s 92ms/step - loss: 0.3273 - accuracy: 0.8531 - val_loss: 0.5617 - val_accuracy: 0.7625\n",
      "Epoch 22/50\n",
      "250/250 [==============================] - 22s 90ms/step - loss: 0.3068 - accuracy: 0.8675 - val_loss: 0.4899 - val_accuracy: 0.7845\n",
      "Epoch 23/50\n",
      "250/250 [==============================] - 23s 91ms/step - loss: 0.3036 - accuracy: 0.8669 - val_loss: 0.5216 - val_accuracy: 0.7895\n",
      "Epoch 24/50\n",
      "250/250 [==============================] - 23s 91ms/step - loss: 0.3023 - accuracy: 0.8680 - val_loss: 0.5514 - val_accuracy: 0.7825\n",
      "Epoch 25/50\n",
      "250/250 [==============================] - 24s 95ms/step - loss: 0.2869 - accuracy: 0.8733 - val_loss: 0.5205 - val_accuracy: 0.7935\n",
      "Epoch 26/50\n",
      "250/250 [==============================] - 23s 92ms/step - loss: 0.2908 - accuracy: 0.8740 - val_loss: 0.5801 - val_accuracy: 0.7860\n",
      "Epoch 27/50\n",
      "250/250 [==============================] - 23s 94ms/step - loss: 0.2813 - accuracy: 0.8792 - val_loss: 0.5277 - val_accuracy: 0.7880\n",
      "Epoch 28/50\n",
      "250/250 [==============================] - 23s 93ms/step - loss: 0.2656 - accuracy: 0.8855 - val_loss: 0.5897 - val_accuracy: 0.7690\n",
      "Epoch 29/50\n",
      "250/250 [==============================] - 23s 91ms/step - loss: 0.2601 - accuracy: 0.8900 - val_loss: 0.5690 - val_accuracy: 0.8015\n",
      "Epoch 30/50\n",
      "250/250 [==============================] - 22s 89ms/step - loss: 0.2597 - accuracy: 0.8914 - val_loss: 0.5534 - val_accuracy: 0.7960\n",
      "Epoch 31/50\n",
      "250/250 [==============================] - 22s 89ms/step - loss: 0.2440 - accuracy: 0.8965 - val_loss: 0.5489 - val_accuracy: 0.7960\n",
      "Epoch 32/50\n",
      "250/250 [==============================] - 23s 90ms/step - loss: 0.2471 - accuracy: 0.8956 - val_loss: 0.6007 - val_accuracy: 0.7965\n",
      "Epoch 33/50\n",
      "250/250 [==============================] - 22s 89ms/step - loss: 0.2327 - accuracy: 0.9046 - val_loss: 0.5599 - val_accuracy: 0.7975\n",
      "Epoch 34/50\n",
      "250/250 [==============================] - 23s 92ms/step - loss: 0.2374 - accuracy: 0.9014 - val_loss: 0.5795 - val_accuracy: 0.7910\n",
      "Epoch 35/50\n",
      "250/250 [==============================] - 23s 90ms/step - loss: 0.2343 - accuracy: 0.9035 - val_loss: 0.5626 - val_accuracy: 0.7945\n",
      "Epoch 36/50\n",
      "250/250 [==============================] - 24s 94ms/step - loss: 0.2197 - accuracy: 0.9084 - val_loss: 0.7117 - val_accuracy: 0.7675\n",
      "Epoch 37/50\n",
      "250/250 [==============================] - 23s 91ms/step - loss: 0.2173 - accuracy: 0.9081 - val_loss: 0.6245 - val_accuracy: 0.7770\n",
      "Epoch 38/50\n",
      "250/250 [==============================] - 23s 94ms/step - loss: 0.2118 - accuracy: 0.9124 - val_loss: 0.6124 - val_accuracy: 0.7905\n",
      "Epoch 39/50\n",
      "250/250 [==============================] - 23s 92ms/step - loss: 0.2084 - accuracy: 0.9119 - val_loss: 0.7166 - val_accuracy: 0.7895\n",
      "Epoch 40/50\n",
      "250/250 [==============================] - 22s 88ms/step - loss: 0.1964 - accuracy: 0.9244 - val_loss: 0.6573 - val_accuracy: 0.7865\n",
      "Epoch 41/50\n",
      "250/250 [==============================] - 22s 89ms/step - loss: 0.2069 - accuracy: 0.9124 - val_loss: 0.6146 - val_accuracy: 0.7950\n",
      "Epoch 42/50\n",
      "250/250 [==============================] - 23s 92ms/step - loss: 0.1906 - accuracy: 0.9241 - val_loss: 0.6173 - val_accuracy: 0.7940\n",
      "Epoch 43/50\n",
      "250/250 [==============================] - 24s 96ms/step - loss: 0.1886 - accuracy: 0.9270 - val_loss: 0.6397 - val_accuracy: 0.8100\n",
      "Epoch 44/50\n",
      "250/250 [==============================] - 24s 98ms/step - loss: 0.1851 - accuracy: 0.9274 - val_loss: 0.6102 - val_accuracy: 0.7990\n",
      "Epoch 45/50\n",
      "250/250 [==============================] - 27s 107ms/step - loss: 0.1746 - accuracy: 0.9316 - val_loss: 0.6384 - val_accuracy: 0.8065\n",
      "Epoch 46/50\n",
      "250/250 [==============================] - 24s 97ms/step - loss: 0.1826 - accuracy: 0.9251 - val_loss: 0.6531 - val_accuracy: 0.8025\n",
      "Epoch 47/50\n",
      "250/250 [==============================] - 23s 94ms/step - loss: 0.1672 - accuracy: 0.9342 - val_loss: 0.7565 - val_accuracy: 0.7910\n",
      "Epoch 48/50\n",
      "250/250 [==============================] - 24s 96ms/step - loss: 0.1693 - accuracy: 0.9333 - val_loss: 0.6659 - val_accuracy: 0.7950\n",
      "Epoch 49/50\n",
      "250/250 [==============================] - 23s 93ms/step - loss: 0.1634 - accuracy: 0.9359 - val_loss: 0.6983 - val_accuracy: 0.7920\n",
      "Epoch 50/50\n",
      "250/250 [==============================] - 24s 94ms/step - loss: 0.1624 - accuracy: 0.9351 - val_loss: 0.7034 - val_accuracy: 0.8015\n"
     ]
    },
    {
     "data": {
      "text/plain": [
       "<keras.src.callbacks.History at 0x1f242feed70>"
      ]
     },
     "execution_count": 5,
     "metadata": {},
     "output_type": "execute_result"
    }
   ],
   "source": [
    "cnn.compile(optimizer='adam',loss='binary_crossentropy', metrics=['accuracy'])\n",
    "cnn.fit(x=training_set,validation_data=test_set,epochs=50)"
   ]
  },
  {
   "cell_type": "code",
   "execution_count": 9,
   "id": "471a1d5b",
   "metadata": {},
   "outputs": [],
   "source": [
    "import numpy as np\n",
    "from keras.preprocessing import image\n",
    "test_image1=image.load_img(r\"C:\\Users\\Swar Jagdale\\Downloads\\dataset\\single_prediction\\cat_or_dog_1.jpg\",\n",
    "                     target_size=(64,64))\n",
    "test_image1=image.img_to_array(test_image1)\n",
    "test_image2=image.load_img(r\"C:\\Users\\Swar Jagdale\\Downloads\\dataset\\single_prediction\\cat_or_dog_2.jpg\",\n",
    "                     target_size=(64,64))\n",
    "test_image2=image.img_to_array(test_image2)\n"
   ]
  },
  {
   "cell_type": "code",
   "execution_count": 10,
   "id": "321403cf",
   "metadata": {},
   "outputs": [
    {
     "name": "stdout",
     "output_type": "stream",
     "text": [
      "1/1 [==============================] - 0s 21ms/step\n",
      "Dog, so correct!\n",
      "1/1 [==============================] - 0s 22ms/step\n",
      "Cat, so correct!\n"
     ]
    }
   ],
   "source": [
    "test_image1=np.expand_dims(test_image1,axis=0)\n",
    "result1= cnn.predict(test_image1)\n",
    "if result1[0][0]==1:\n",
    "    print(\"Dog!\")\n",
    "test_image2=np.expand_dims(test_image2,axis=0)\n",
    "result2= cnn.predict(test_image2)\n",
    "if result2[0][0]==0:\n",
    "    print(\"Cat\")\n"
   ]
  },
  {
   "cell_type": "code",
   "execution_count": 12,
   "id": "3df6c9eb",
   "metadata": {
    "scrolled": true
   },
   "outputs": [
    {
     "name": "stderr",
     "output_type": "stream",
     "text": [
      "C:\\Users\\Swar Jagdale\\anaconda3\\lib\\site-packages\\keras\\src\\engine\\training.py:3000: UserWarning: You are saving your model as an HDF5 file via `model.save()`. This file format is considered legacy. We recommend using instead the native Keras format, e.g. `model.save('my_model.keras')`.\n",
      "  saving_api.save_model(\n"
     ]
    }
   ],
   "source": [
    "cnn.save('CatOrDog.h5')"
   ]
  },
  {
   "cell_type": "code",
   "execution_count": 13,
   "id": "22d88c84",
   "metadata": {},
   "outputs": [],
   "source": [
    "new_mod=tf.keras.models.load_model('CatOrDog.h5')"
   ]
  },
  {
   "cell_type": "code",
   "execution_count": 16,
   "id": "3416448c",
   "metadata": {},
   "outputs": [
    {
     "name": "stdout",
     "output_type": "stream",
     "text": [
      "1/1 [==============================] - 0s 16ms/step\n"
     ]
    },
    {
     "data": {
      "text/plain": [
       "1.0"
      ]
     },
     "execution_count": 16,
     "metadata": {},
     "output_type": "execute_result"
    }
   ],
   "source": [
    "new_mod.predict(test_image1)[0][0]"
   ]
  },
  {
   "cell_type": "code",
   "execution_count": null,
   "id": "044bceb2",
   "metadata": {},
   "outputs": [],
   "source": []
  }
 ],
 "metadata": {
  "kernelspec": {
   "display_name": "Python 3 (ipykernel)",
   "language": "python",
   "name": "python3"
  },
  "language_info": {
   "codemirror_mode": {
    "name": "ipython",
    "version": 3
   },
   "file_extension": ".py",
   "mimetype": "text/x-python",
   "name": "python",
   "nbconvert_exporter": "python",
   "pygments_lexer": "ipython3",
   "version": "3.10.9"
  }
 },
 "nbformat": 4,
 "nbformat_minor": 5
}
